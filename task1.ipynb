{
 "cells": [
  {
   "cell_type": "markdown",
   "metadata": {},
   "source": [
    "### British American Airways Sentiment Analysis"
   ]
  },
  {
   "cell_type": "code",
   "execution_count": 14,
   "metadata": {},
   "outputs": [],
   "source": [
    "# importing libraries\n",
    "import pandas as pd\n",
    "import requests\n",
    "from bs4 import BeautifulSoup\n",
    "import re\n",
    "import nltk\n",
    "from nltk import word_tokenize\n",
    "from nltk.corpus import stopwords\n",
    "from nltk import pos_tag\n",
    "from nltk.corpus import wordnet"
   ]
  },
  {
   "cell_type": "code",
   "execution_count": 2,
   "metadata": {},
   "outputs": [
    {
     "name": "stdout",
     "output_type": "stream",
     "text": [
      "Scraping page 1\n",
      "Number of reviews: 100\n",
      "Scraping page 2\n",
      "Number of reviews: 200\n",
      "Scraping page 3\n",
      "Number of reviews: 300\n",
      "Scraping page 4\n",
      "Number of reviews: 400\n",
      "Scraping page 5\n",
      "Number of reviews: 500\n",
      "Scraping page 6\n",
      "Number of reviews: 600\n",
      "Scraping page 7\n",
      "Number of reviews: 700\n",
      "Scraping page 8\n",
      "Number of reviews: 800\n",
      "Scraping page 9\n",
      "Number of reviews: 900\n",
      "Scraping page 10\n",
      "Number of reviews: 1000\n",
      "Scraping page 11\n",
      "Number of reviews: 1100\n",
      "Scraping page 12\n",
      "Number of reviews: 1200\n",
      "Scraping page 13\n",
      "Number of reviews: 1300\n",
      "Scraping page 14\n",
      "Number of reviews: 1400\n",
      "Scraping page 15\n",
      "Number of reviews: 1500\n"
     ]
    }
   ],
   "source": [
    "# scrapping data from the websiste\n",
    "url = \"https://www.airlinequality.com/airline-reviews/british-airways\"\n",
    "num_pages = 15\n",
    "page_size = 100\n",
    "\n",
    "reviews = []\n",
    "\n",
    "# loop to scrap the pages:\n",
    "for i in range(1, num_pages + 1):\n",
    "\n",
    "    print(f\"Scraping page {i}\")\n",
    "\n",
    "    # Create URL to collect links from data\n",
    "    url = f\"{url}/page/{i}/?sortby=post_date%3ADesc&pagesize={page_size}\"\n",
    "\n",
    "    # Collecting HTML data\n",
    "    response = requests.get(url)\n",
    "\n",
    "    # Parsing content\n",
    "    content = response.content\n",
    "    soup = BeautifulSoup(content, 'html.parser')\n",
    "    for sou in soup.find_all(\"div\", {\"class\": \"text_content\"}):\n",
    "        reviews.append(sou.get_text())\n",
    "    \n",
    "    print(f\"Number of reviews: {len(reviews)}\")"
   ]
  },
  {
   "cell_type": "code",
   "execution_count": 3,
   "metadata": {},
   "outputs": [
    {
     "data": {
      "text/html": [
       "<div>\n",
       "<style scoped>\n",
       "    .dataframe tbody tr th:only-of-type {\n",
       "        vertical-align: middle;\n",
       "    }\n",
       "\n",
       "    .dataframe tbody tr th {\n",
       "        vertical-align: top;\n",
       "    }\n",
       "\n",
       "    .dataframe thead th {\n",
       "        text-align: right;\n",
       "    }\n",
       "</style>\n",
       "<table border=\"1\" class=\"dataframe\">\n",
       "  <thead>\n",
       "    <tr style=\"text-align: right;\">\n",
       "      <th></th>\n",
       "      <th>reviews</th>\n",
       "    </tr>\n",
       "  </thead>\n",
       "  <tbody>\n",
       "    <tr>\n",
       "      <th>0</th>\n",
       "      <td>✅ Trip Verified | Very impressed with BA. Chec...</td>\n",
       "    </tr>\n",
       "    <tr>\n",
       "      <th>1</th>\n",
       "      <td>✅ Trip Verified |  LHR - SFO, LAS - LGW August...</td>\n",
       "    </tr>\n",
       "    <tr>\n",
       "      <th>2</th>\n",
       "      <td>Not Verified |   I flew from Malaga via LHR to...</td>\n",
       "    </tr>\n",
       "    <tr>\n",
       "      <th>3</th>\n",
       "      <td>✅ Trip Verified |  Milan to Miami return via L...</td>\n",
       "    </tr>\n",
       "    <tr>\n",
       "      <th>4</th>\n",
       "      <td>✅ Trip Verified |  BA created a new low-cost s...</td>\n",
       "    </tr>\n",
       "  </tbody>\n",
       "</table>\n",
       "</div>"
      ],
      "text/plain": [
       "                                             reviews\n",
       "0  ✅ Trip Verified | Very impressed with BA. Chec...\n",
       "1  ✅ Trip Verified |  LHR - SFO, LAS - LGW August...\n",
       "2  Not Verified |   I flew from Malaga via LHR to...\n",
       "3  ✅ Trip Verified |  Milan to Miami return via L...\n",
       "4  ✅ Trip Verified |  BA created a new low-cost s..."
      ]
     },
     "execution_count": 3,
     "metadata": {},
     "output_type": "execute_result"
    }
   ],
   "source": [
    "# converting list with reviews to dataframe\n",
    "df = pd.DataFrame()\n",
    "df['reviews'] = reviews\n",
    "# previewing first 5 reviews\n",
    "df.head()"
   ]
  },
  {
   "cell_type": "code",
   "execution_count": 4,
   "metadata": {},
   "outputs": [
    {
     "name": "stdout",
     "output_type": "stream",
     "text": [
      "The dataframe contains 1500 reviews.\n"
     ]
    }
   ],
   "source": [
    "# checking the shape\n",
    "df.shape\n",
    "\n",
    "print(f\"The dataframe contains {df.shape[0]} reviews.\")"
   ]
  },
  {
   "cell_type": "markdown",
   "metadata": {},
   "source": [
    "After previewing the dataframe, we can see that there are words and symbols. We shall fo ahead and remove them."
   ]
  },
  {
   "cell_type": "code",
   "execution_count": 5,
   "metadata": {},
   "outputs": [],
   "source": [
    "df['reviews'] = df[\"reviews\"].str.split(\"|\", expand=True)[1]"
   ]
  },
  {
   "cell_type": "code",
   "execution_count": 6,
   "metadata": {},
   "outputs": [
    {
     "data": {
      "text/plain": [
       "0     Very impressed with BA. Check in online was a...\n",
       "1      LHR - SFO, LAS - LGW August 2023 in Club Wor...\n",
       "2       I flew from Malaga via LHR to Boston on the...\n",
       "3      Milan to Miami return via London. Worst busi...\n",
       "4      BA created a new low-cost subsidiary in BA E...\n",
       "Name: reviews, dtype: object"
      ]
     },
     "execution_count": 6,
     "metadata": {},
     "output_type": "execute_result"
    }
   ],
   "source": [
    "# previewing the changes\n",
    "df['reviews'].head()"
   ]
  },
  {
   "cell_type": "markdown",
   "metadata": {},
   "source": [
    "We can also note that the reviews have special characters and numbers. We shall go ahead and remove all of them and just leave the text. "
   ]
  },
  {
   "cell_type": "code",
   "execution_count": 7,
   "metadata": {},
   "outputs": [],
   "source": [
    "# defining a function to clean the reviews\n",
    "def clean_review(text):\n",
    "  \"\"\"\n",
    "  This function cleans a review by converting it to lowercase and removing special characters.\n",
    "  \"\"\"\n",
    "  # Convert to lowercase\n",
    "  text = text.lower()\n",
    "\n",
    "  # Remove special characters (keep alphanumeric and whitespace)\n",
    "  pattern = r\"[^\\w\\s]\"  # Matches anything except alphanumeric characters and whitespace\n",
    "  cleaned_text = re.sub(pattern, \"\", text)\n",
    "\n",
    "  return cleaned_text\n"
   ]
  },
  {
   "cell_type": "code",
   "execution_count": 8,
   "metadata": {},
   "outputs": [],
   "source": [
    "# applying the function\n",
    "df['cleaned_reviews'] = df['reviews'].apply(clean_review)"
   ]
  },
  {
   "cell_type": "code",
   "execution_count": 9,
   "metadata": {},
   "outputs": [
    {
     "data": {
      "text/plain": [
       "0     very impressed with ba check in online was a ...\n",
       "1      lhr  sfo las  lgw august 2023 in club world ...\n",
       "2       i flew from malaga via lhr to boston on the...\n",
       "3      milan to miami return via london worst busin...\n",
       "4      ba created a new lowcost subsidiary in ba eu...\n",
       "Name: cleaned_reviews, dtype: object"
      ]
     },
     "execution_count": 9,
     "metadata": {},
     "output_type": "execute_result"
    }
   ],
   "source": [
    "# previewing the changes\n",
    "df['cleaned_reviews'].head()"
   ]
  },
  {
   "cell_type": "markdown",
   "metadata": {},
   "source": [
    "### SENTIMENT ANALYSIS"
   ]
  },
  {
   "cell_type": "markdown",
   "metadata": {},
   "source": [
    "In this section we will go ahead and conduct a sentiment analysis from the data collected. The data will first go through pre-processing. The pre-processing will contain the following steps\n",
    "##### Tokenization:\n",
    "This is the breaking of the text into smaller chunks known as Tokens\n",
    "\n",
    "##### POS Tagging:\n",
    "This is the conversion of each token into a Tuple\n",
    "\n",
    "##### Stopwords removal:\n",
    "Stopwords are words which add little information to text.\n",
    "\n",
    "##### Getting the Stem words:\n",
    "This is done through Stemming and Lemmatization"
   ]
  },
  {
   "cell_type": "code",
   "execution_count": 16,
   "metadata": {},
   "outputs": [
    {
     "name": "stderr",
     "output_type": "stream",
     "text": [
      "[nltk_data] Downloading package omw-1.4 to C:\\Users\\espym.LAPTOP-\n",
      "[nltk_data]     41F90NSA\\AppData\\Roaming\\nltk_data...\n",
      "[nltk_data]   Package omw-1.4 is already up-to-date!\n",
      "[nltk_data] Downloading package averaged_perceptron_tagger to C:\\Users\n",
      "[nltk_data]     \\espym.LAPTOP-41F90NSA\\AppData\\Roaming\\nltk_data...\n",
      "[nltk_data]   Package averaged_perceptron_tagger is already up-to-\n",
      "[nltk_data]       date!\n"
     ]
    },
    {
     "data": {
      "text/html": [
       "<div>\n",
       "<style scoped>\n",
       "    .dataframe tbody tr th:only-of-type {\n",
       "        vertical-align: middle;\n",
       "    }\n",
       "\n",
       "    .dataframe tbody tr th {\n",
       "        vertical-align: top;\n",
       "    }\n",
       "\n",
       "    .dataframe thead th {\n",
       "        text-align: right;\n",
       "    }\n",
       "</style>\n",
       "<table border=\"1\" class=\"dataframe\">\n",
       "  <thead>\n",
       "    <tr style=\"text-align: right;\">\n",
       "      <th></th>\n",
       "      <th>reviews</th>\n",
       "      <th>cleaned_reviews</th>\n",
       "      <th>POS tagged</th>\n",
       "    </tr>\n",
       "  </thead>\n",
       "  <tbody>\n",
       "    <tr>\n",
       "      <th>0</th>\n",
       "      <td>Very impressed with BA. Check in online was a...</td>\n",
       "      <td>very impressed with ba check in online was a ...</td>\n",
       "      <td>[(impressed, a), (ba, a), (check, n), (online,...</td>\n",
       "    </tr>\n",
       "    <tr>\n",
       "      <th>1</th>\n",
       "      <td>LHR - SFO, LAS - LGW August 2023 in Club Wor...</td>\n",
       "      <td>lhr  sfo las  lgw august 2023 in club world ...</td>\n",
       "      <td>[(lhr, n), (sfo, n), (las, n), (lgw, n), (augu...</td>\n",
       "    </tr>\n",
       "    <tr>\n",
       "      <th>2</th>\n",
       "      <td>I flew from Malaga via LHR to Boston on the...</td>\n",
       "      <td>i flew from malaga via lhr to boston on the...</td>\n",
       "      <td>[(flew, v), (malaga, n), (via, None), (lhr, n)...</td>\n",
       "    </tr>\n",
       "    <tr>\n",
       "      <th>3</th>\n",
       "      <td>Milan to Miami return via London. Worst busi...</td>\n",
       "      <td>milan to miami return via london worst busin...</td>\n",
       "      <td>[(milan, n), (miami, v), (return, n), (via, No...</td>\n",
       "    </tr>\n",
       "    <tr>\n",
       "      <th>4</th>\n",
       "      <td>BA created a new low-cost subsidiary in BA E...</td>\n",
       "      <td>ba created a new lowcost subsidiary in ba eu...</td>\n",
       "      <td>[(ba, n), (created, v), (new, a), (lowcost, n)...</td>\n",
       "    </tr>\n",
       "  </tbody>\n",
       "</table>\n",
       "</div>"
      ],
      "text/plain": [
       "                                             reviews  \\\n",
       "0   Very impressed with BA. Check in online was a...   \n",
       "1    LHR - SFO, LAS - LGW August 2023 in Club Wor...   \n",
       "2     I flew from Malaga via LHR to Boston on the...   \n",
       "3    Milan to Miami return via London. Worst busi...   \n",
       "4    BA created a new low-cost subsidiary in BA E...   \n",
       "\n",
       "                                     cleaned_reviews  \\\n",
       "0   very impressed with ba check in online was a ...   \n",
       "1    lhr  sfo las  lgw august 2023 in club world ...   \n",
       "2     i flew from malaga via lhr to boston on the...   \n",
       "3    milan to miami return via london worst busin...   \n",
       "4    ba created a new lowcost subsidiary in ba eu...   \n",
       "\n",
       "                                          POS tagged  \n",
       "0  [(impressed, a), (ba, a), (check, n), (online,...  \n",
       "1  [(lhr, n), (sfo, n), (las, n), (lgw, n), (augu...  \n",
       "2  [(flew, v), (malaga, n), (via, None), (lhr, n)...  \n",
       "3  [(milan, n), (miami, v), (return, n), (via, No...  \n",
       "4  [(ba, n), (created, v), (new, a), (lowcost, n)...  "
      ]
     },
     "execution_count": 16,
     "metadata": {},
     "output_type": "execute_result"
    }
   ],
   "source": [
    "#The nltk.corpus package defines a collection of corpus reader classes, which can be used to access the contents of a diverse set of corpora.\n",
    "nltk.download('omw-1.4')\n",
    "nltk.download('averaged_perceptron_tagger')\n",
    "\n",
    "# POS tagger dictionary\n",
    "pos_dict = {'J':wordnet.ADJ, 'V':wordnet.VERB, 'N':wordnet.NOUN, 'R':wordnet.ADV}\n",
    "def token_stop_pos(text):\n",
    "    tags = pos_tag(word_tokenize(text))\n",
    "    #print(tags)\n",
    "    newlist = []\n",
    "    for word, tag in tags:\n",
    "        if word.lower() not in set(stopwords.words('english')):\n",
    "          newlist.append(tuple([word, pos_dict.get(tag[0])]))\n",
    "          #print(tag[0])\n",
    "          #print(pos_dict.get(tag[0]))\n",
    "    return newlist \n",
    "\n",
    "df['POS tagged'] = df['cleaned_reviews'].apply(token_stop_pos)\n",
    "df.head()"
   ]
  },
  {
   "cell_type": "code",
   "execution_count": 17,
   "metadata": {},
   "outputs": [
    {
     "data": {
      "text/html": [
       "<div>\n",
       "<style scoped>\n",
       "    .dataframe tbody tr th:only-of-type {\n",
       "        vertical-align: middle;\n",
       "    }\n",
       "\n",
       "    .dataframe tbody tr th {\n",
       "        vertical-align: top;\n",
       "    }\n",
       "\n",
       "    .dataframe thead th {\n",
       "        text-align: right;\n",
       "    }\n",
       "</style>\n",
       "<table border=\"1\" class=\"dataframe\">\n",
       "  <thead>\n",
       "    <tr style=\"text-align: right;\">\n",
       "      <th></th>\n",
       "      <th>reviews</th>\n",
       "      <th>cleaned_reviews</th>\n",
       "      <th>POS tagged</th>\n",
       "      <th>Lemma</th>\n",
       "    </tr>\n",
       "  </thead>\n",
       "  <tbody>\n",
       "    <tr>\n",
       "      <th>0</th>\n",
       "      <td>Very impressed with BA. Check in online was a...</td>\n",
       "      <td>very impressed with ba check in online was a ...</td>\n",
       "      <td>[(impressed, a), (ba, a), (check, n), (online,...</td>\n",
       "      <td>impressed ba check online little convoluted ...</td>\n",
       "    </tr>\n",
       "    <tr>\n",
       "      <th>1</th>\n",
       "      <td>LHR - SFO, LAS - LGW August 2023 in Club Wor...</td>\n",
       "      <td>lhr  sfo las  lgw august 2023 in club world ...</td>\n",
       "      <td>[(lhr, n), (sfo, n), (las, n), (lgw, n), (augu...</td>\n",
       "      <td>lhr sfo la lgw august 2023 club world shame ...</td>\n",
       "    </tr>\n",
       "    <tr>\n",
       "      <th>2</th>\n",
       "      <td>I flew from Malaga via LHR to Boston on the...</td>\n",
       "      <td>i flew from malaga via lhr to boston on the...</td>\n",
       "      <td>[(flew, v), (malaga, n), (via, None), (lhr, n)...</td>\n",
       "      <td>fly malaga via lhr boston 4th may 2024 arriv...</td>\n",
       "    </tr>\n",
       "    <tr>\n",
       "      <th>3</th>\n",
       "      <td>Milan to Miami return via London. Worst busi...</td>\n",
       "      <td>milan to miami return via london worst busin...</td>\n",
       "      <td>[(milan, n), (miami, v), (return, n), (via, No...</td>\n",
       "      <td>milan miami return via london bad business c...</td>\n",
       "    </tr>\n",
       "    <tr>\n",
       "      <th>4</th>\n",
       "      <td>BA created a new low-cost subsidiary in BA E...</td>\n",
       "      <td>ba created a new lowcost subsidiary in ba eu...</td>\n",
       "      <td>[(ba, n), (created, v), (new, a), (lowcost, n)...</td>\n",
       "      <td>ba create new lowcost subsidiary ba euroflye...</td>\n",
       "    </tr>\n",
       "  </tbody>\n",
       "</table>\n",
       "</div>"
      ],
      "text/plain": [
       "                                             reviews  \\\n",
       "0   Very impressed with BA. Check in online was a...   \n",
       "1    LHR - SFO, LAS - LGW August 2023 in Club Wor...   \n",
       "2     I flew from Malaga via LHR to Boston on the...   \n",
       "3    Milan to Miami return via London. Worst busi...   \n",
       "4    BA created a new low-cost subsidiary in BA E...   \n",
       "\n",
       "                                     cleaned_reviews  \\\n",
       "0   very impressed with ba check in online was a ...   \n",
       "1    lhr  sfo las  lgw august 2023 in club world ...   \n",
       "2     i flew from malaga via lhr to boston on the...   \n",
       "3    milan to miami return via london worst busin...   \n",
       "4    ba created a new lowcost subsidiary in ba eu...   \n",
       "\n",
       "                                          POS tagged  \\\n",
       "0  [(impressed, a), (ba, a), (check, n), (online,...   \n",
       "1  [(lhr, n), (sfo, n), (las, n), (lgw, n), (augu...   \n",
       "2  [(flew, v), (malaga, n), (via, None), (lhr, n)...   \n",
       "3  [(milan, n), (miami, v), (return, n), (via, No...   \n",
       "4  [(ba, n), (created, v), (new, a), (lowcost, n)...   \n",
       "\n",
       "                                               Lemma  \n",
       "0    impressed ba check online little convoluted ...  \n",
       "1    lhr sfo la lgw august 2023 club world shame ...  \n",
       "2    fly malaga via lhr boston 4th may 2024 arriv...  \n",
       "3    milan miami return via london bad business c...  \n",
       "4    ba create new lowcost subsidiary ba euroflye...  "
      ]
     },
     "execution_count": 17,
     "metadata": {},
     "output_type": "execute_result"
    }
   ],
   "source": [
    "# Obtaining the stem words – Lemmatization\n",
    "\n",
    "from nltk.stem import WordNetLemmatizer\n",
    "wordnet_lemmatizer = WordNetLemmatizer()\n",
    "def lemmatize(pos_data_reviews):\n",
    "    lemma_rew = \" \"\n",
    "    for word, pos in pos_data_reviews:\n",
    "     if not pos:\n",
    "        lemma = word\n",
    "        lemma_rew = lemma_rew + \" \" + lemma\n",
    "     else:\n",
    "        lemma = wordnet_lemmatizer.lemmatize(word, pos=pos)\n",
    "        lemma_rew = lemma_rew + \" \" + lemma\n",
    "    return lemma_rew\n",
    "\n",
    "df['Lemma'] = df['POS tagged'].apply(lemmatize)\n",
    "df.head()"
   ]
  },
  {
   "cell_type": "code",
   "execution_count": 19,
   "metadata": {},
   "outputs": [
    {
     "data": {
      "text/plain": [
       "0      impressed ba check online little convoluted ...\n",
       "1      lhr sfo la lgw august 2023 club world shame ...\n",
       "2      fly malaga via lhr boston 4th may 2024 arriv...\n",
       "3      milan miami return via london bad business c...\n",
       "4      ba create new lowcost subsidiary ba euroflye...\n",
       "Name: Lemma, dtype: object"
      ]
     },
     "execution_count": 19,
     "metadata": {},
     "output_type": "execute_result"
    }
   ],
   "source": [
    "df['Lemma'].head()"
   ]
  },
  {
   "cell_type": "code",
   "execution_count": 21,
   "metadata": {},
   "outputs": [
    {
     "data": {
      "text/html": [
       "<div>\n",
       "<style scoped>\n",
       "    .dataframe tbody tr th:only-of-type {\n",
       "        vertical-align: middle;\n",
       "    }\n",
       "\n",
       "    .dataframe tbody tr th {\n",
       "        vertical-align: top;\n",
       "    }\n",
       "\n",
       "    .dataframe thead th {\n",
       "        text-align: right;\n",
       "    }\n",
       "</style>\n",
       "<table border=\"1\" class=\"dataframe\">\n",
       "  <thead>\n",
       "    <tr style=\"text-align: right;\">\n",
       "      <th></th>\n",
       "      <th>reviews</th>\n",
       "      <th>Lemma</th>\n",
       "    </tr>\n",
       "  </thead>\n",
       "  <tbody>\n",
       "    <tr>\n",
       "      <th>0</th>\n",
       "      <td>Very impressed with BA. Check in online was a...</td>\n",
       "      <td>impressed ba check online little convoluted ...</td>\n",
       "    </tr>\n",
       "    <tr>\n",
       "      <th>1</th>\n",
       "      <td>LHR - SFO, LAS - LGW August 2023 in Club Wor...</td>\n",
       "      <td>lhr sfo la lgw august 2023 club world shame ...</td>\n",
       "    </tr>\n",
       "    <tr>\n",
       "      <th>2</th>\n",
       "      <td>I flew from Malaga via LHR to Boston on the...</td>\n",
       "      <td>fly malaga via lhr boston 4th may 2024 arriv...</td>\n",
       "    </tr>\n",
       "    <tr>\n",
       "      <th>3</th>\n",
       "      <td>Milan to Miami return via London. Worst busi...</td>\n",
       "      <td>milan miami return via london bad business c...</td>\n",
       "    </tr>\n",
       "    <tr>\n",
       "      <th>4</th>\n",
       "      <td>BA created a new low-cost subsidiary in BA E...</td>\n",
       "      <td>ba create new lowcost subsidiary ba euroflye...</td>\n",
       "    </tr>\n",
       "    <tr>\n",
       "      <th>...</th>\n",
       "      <td>...</td>\n",
       "      <td>...</td>\n",
       "    </tr>\n",
       "    <tr>\n",
       "      <th>1495</th>\n",
       "      <td>Quick bag drop at First Wing but too many pa...</td>\n",
       "      <td>quick bag drop first wing many passenger use...</td>\n",
       "    </tr>\n",
       "    <tr>\n",
       "      <th>1496</th>\n",
       "      <td>4 Hours before takeoff we received a Mail st...</td>\n",
       "      <td>4 hour takeoff receive mail state cryptic me...</td>\n",
       "    </tr>\n",
       "    <tr>\n",
       "      <th>1497</th>\n",
       "      <td>I recently had a delay on British Airways fr...</td>\n",
       "      <td>recently delay british airway bru lhr due st...</td>\n",
       "    </tr>\n",
       "    <tr>\n",
       "      <th>1498</th>\n",
       "      <td>Boarded on time, but it took ages to get to ...</td>\n",
       "      <td>board time take age get runway due congestio...</td>\n",
       "    </tr>\n",
       "    <tr>\n",
       "      <th>1499</th>\n",
       "      <td>5 days before the flight, we were advised by...</td>\n",
       "      <td>5 day flight advise ba cancel ask us rebook ...</td>\n",
       "    </tr>\n",
       "  </tbody>\n",
       "</table>\n",
       "<p>1500 rows × 2 columns</p>\n",
       "</div>"
      ],
      "text/plain": [
       "                                                reviews  \\\n",
       "0      Very impressed with BA. Check in online was a...   \n",
       "1       LHR - SFO, LAS - LGW August 2023 in Club Wor...   \n",
       "2        I flew from Malaga via LHR to Boston on the...   \n",
       "3       Milan to Miami return via London. Worst busi...   \n",
       "4       BA created a new low-cost subsidiary in BA E...   \n",
       "...                                                 ...   \n",
       "1495    Quick bag drop at First Wing but too many pa...   \n",
       "1496    4 Hours before takeoff we received a Mail st...   \n",
       "1497    I recently had a delay on British Airways fr...   \n",
       "1498    Boarded on time, but it took ages to get to ...   \n",
       "1499    5 days before the flight, we were advised by...   \n",
       "\n",
       "                                                  Lemma  \n",
       "0       impressed ba check online little convoluted ...  \n",
       "1       lhr sfo la lgw august 2023 club world shame ...  \n",
       "2       fly malaga via lhr boston 4th may 2024 arriv...  \n",
       "3       milan miami return via london bad business c...  \n",
       "4       ba create new lowcost subsidiary ba euroflye...  \n",
       "...                                                 ...  \n",
       "1495    quick bag drop first wing many passenger use...  \n",
       "1496    4 hour takeoff receive mail state cryptic me...  \n",
       "1497    recently delay british airway bru lhr due st...  \n",
       "1498    board time take age get runway due congestio...  \n",
       "1499    5 day flight advise ba cancel ask us rebook ...  \n",
       "\n",
       "[1500 rows x 2 columns]"
      ]
     },
     "execution_count": 21,
     "metadata": {},
     "output_type": "execute_result"
    }
   ],
   "source": [
    "df[['reviews','Lemma']]"
   ]
  }
 ],
 "metadata": {
  "kernelspec": {
   "display_name": "project-env",
   "language": "python",
   "name": "python3"
  },
  "language_info": {
   "codemirror_mode": {
    "name": "ipython",
    "version": 3
   },
   "file_extension": ".py",
   "mimetype": "text/x-python",
   "name": "python",
   "nbconvert_exporter": "python",
   "pygments_lexer": "ipython3",
   "version": "3.12.1"
  }
 },
 "nbformat": 4,
 "nbformat_minor": 2
}
